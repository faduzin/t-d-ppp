{
 "cells": [
  {
   "cell_type": "code",
   "execution_count": 1,
   "id": "698f0645",
   "metadata": {},
   "outputs": [],
   "source": [
    "import pandas as pd\n",
    "import glob"
   ]
  },
  {
   "cell_type": "code",
   "execution_count": 2,
   "id": "d4ec64c1",
   "metadata": {},
   "outputs": [],
   "source": [
    "path = 'data/raw/*.csv'\n",
    "files = glob.glob(path)"
   ]
  },
  {
   "cell_type": "code",
   "execution_count": 4,
   "id": "e92fff4d",
   "metadata": {},
   "outputs": [],
   "source": [
    "df = pd.concat((pd.read_csv(f) for f in files), ignore_index=True)\n",
    "df.to_csv('data/combined_data.csv', index=False)"
   ]
  },
  {
   "cell_type": "code",
   "execution_count": 7,
   "id": "8a586f4e",
   "metadata": {},
   "outputs": [
    {
     "data": {
      "text/plain": [
       "VendorID                 20806577\n",
       "tpep_pickup_datetime     20806577\n",
       "tpep_dropoff_datetime    20806577\n",
       "passenger_count          20806577\n",
       "trip_distance            20806577\n",
       "RatecodeID               20806577\n",
       "store_and_fwd_flag       20806577\n",
       "PULocationID             20806577\n",
       "DOLocationID             20806577\n",
       "payment_type             20806577\n",
       "fare_amount              20806577\n",
       "extra                    20806577\n",
       "mta_tax                  20806577\n",
       "tip_amount               20806577\n",
       "tolls_amount             20806577\n",
       "improvement_surcharge    20806577\n",
       "total_amount             20806577\n",
       "congestion_surcharge     17526287\n",
       "dtype: int64"
      ]
     },
     "execution_count": 7,
     "metadata": {},
     "output_type": "execute_result"
    }
   ],
   "source": [
    "df.count()"
   ]
  }
 ],
 "metadata": {
  "kernelspec": {
   "display_name": "Python 3",
   "language": "python",
   "name": "python3"
  },
  "language_info": {
   "codemirror_mode": {
    "name": "ipython",
    "version": 3
   },
   "file_extension": ".py",
   "mimetype": "text/x-python",
   "name": "python",
   "nbconvert_exporter": "python",
   "pygments_lexer": "ipython3",
   "version": "3.10.10"
  }
 },
 "nbformat": 4,
 "nbformat_minor": 5
}
